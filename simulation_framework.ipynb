{
 "cells": [
  {
   "cell_type": "code",
   "execution_count": 271,
   "id": "25c0f073",
   "metadata": {
    "ExecuteTime": {
     "end_time": "2022-09-22T04:19:21.797192Z",
     "start_time": "2022-09-22T04:19:21.791204Z"
    }
   },
   "outputs": [],
   "source": [
    "import pandas as pd \n",
    "import numpy as np\n",
    "import matplotlib.pyplot as plt"
   ]
  },
  {
   "cell_type": "code",
   "execution_count": 368,
   "id": "2da40a5a",
   "metadata": {
    "ExecuteTime": {
     "end_time": "2022-09-25T09:06:32.339604Z",
     "start_time": "2022-09-25T09:06:32.324847Z"
    }
   },
   "outputs": [],
   "source": [
    "def ProposerSelection(vset):\n",
    "\n",
    "#     // compute priorities and elect proposer\n",
    "    Max_A = -10000\n",
    "\n",
    "    for i in vset.keys():\n",
    "        vset[i]['A'] += vset[i]['VP']\n",
    "        if Max_A<vset[i]['A']:\n",
    "            Max_A = vset[i]['A']\n",
    "            Max_A_ID = i\n",
    "    P = sum(vset[i]['VP'] for i in vset.keys())\n",
    "    vset[Max_A_ID]['A'] -= P\n",
    "    return Max_A_ID, vset\n",
    "vset = {'p0':{'A':0,'VP':7},'p1':{'A':0,'VP':3},'p2':{'A':0,'VP':8}}"
   ]
  },
  {
   "cell_type": "code",
   "execution_count": 369,
   "id": "07467421",
   "metadata": {
    "ExecuteTime": {
     "end_time": "2022-09-25T09:06:32.739215Z",
     "start_time": "2022-09-25T09:06:32.725214Z"
    }
   },
   "outputs": [
    {
     "name": "stdout",
     "output_type": "stream",
     "text": [
      "p2\n",
      "p0\n",
      "p1\n",
      "p2\n",
      "p0\n",
      "p2\n",
      "p0\n",
      "p2\n",
      "p0\n",
      "p1\n",
      "p2\n",
      "p0\n",
      "p2\n",
      "p0\n",
      "p2\n",
      "p1\n",
      "p0\n",
      "p2\n"
     ]
    },
    {
     "data": {
      "text/plain": [
       "{'p0': {'A': 0, 'VP': 7}, 'p1': {'A': 0, 'VP': 3}, 'p2': {'A': 0, 'VP': 8}}"
      ]
     },
     "execution_count": 369,
     "metadata": {},
     "output_type": "execute_result"
    }
   ],
   "source": [
    "for i in range(18):\n",
    "    Max_A_ID, vset = ProposerSelection(vset)\n",
    "    print(Max_A_ID)\n",
    "vset    "
   ]
  },
  {
   "cell_type": "code",
   "execution_count": 273,
   "id": "4c135db0",
   "metadata": {
    "ExecuteTime": {
     "end_time": "2022-09-22T04:19:22.693696Z",
     "start_time": "2022-09-22T04:19:22.675696Z"
    }
   },
   "outputs": [],
   "source": [
    "from scipy.stats import truncnorm\n",
    "z = truncnorm.rvs(0, 1, size=100)"
   ]
  },
  {
   "cell_type": "code",
   "execution_count": 274,
   "id": "b86c269b",
   "metadata": {
    "ExecuteTime": {
     "end_time": "2022-09-22T04:19:22.930644Z",
     "start_time": "2022-09-22T04:19:22.926643Z"
    },
    "scrolled": true
   },
   "outputs": [],
   "source": [
    "# plt.hist(z,bins=50)"
   ]
  },
  {
   "cell_type": "code",
   "execution_count": 275,
   "id": "8ba7fae6",
   "metadata": {
    "ExecuteTime": {
     "end_time": "2022-09-22T04:19:23.184963Z",
     "start_time": "2022-09-22T04:19:23.160967Z"
    }
   },
   "outputs": [],
   "source": [
    "N_validators = 10\n",
    "VP_total = 1000\n",
    "VP_precentage_1_validator = 0.4\n",
    "def Simulation(N_validators,VP_total,VP_precentage_1_validator):\n",
    "    VP_all =  truncnorm.rvs(0, 1, size=N_validators-1)\n",
    "    VP_all_sum = sum(VP_all)\n",
    "    VP_max = 1*VP_all_sum/(1-VP_precentage_1_validator) - VP_all_sum\n",
    "\n",
    "    while (VP_max<max(VP_all)):\n",
    "        VP_all =  truncnorm.rvs(0, 1, size=N_validators-1)\n",
    "        VP_all_sum = sum(VP_all)\n",
    "        VP_max = 1*VP_all_sum/(1-VP_precentage_1_validator) - VP_all_sum\n",
    "\n",
    "    VP_all = np.append(VP_all,VP_max)\n",
    "    VP_all_sum = sum(VP_all)\n",
    "    # normalize\n",
    "    for i in range(len(VP_all)):\n",
    "        VP_all[i] = VP_all[i]/VP_all_sum\n",
    "    # new VP\n",
    "    for i in range(len(VP_all)):\n",
    "        VP_all[i] = round(VP_all[i]*VP_total)\n",
    "    # grnerate vset\n",
    "    N_Vp = sum(VP_all)\n",
    "    vset = {'0':{'A':0,'VP':VP_all[0]}}\n",
    "    for i in range(1,len(VP_all)):\n",
    "        vset[str(i)]= {'A':0,'VP':VP_all[i]}\n",
    "    # generate series\n",
    "    N_series = []\n",
    "    for i in range(int(N_Vp)):\n",
    "        d,vset = ProposerSelection(vset)\n",
    "        N_series.append(d)\n",
    "    \n",
    "    # calculate validator wins\n",
    "    Validator_subsequent_wins=[]\n",
    "    for i in range(1,len(N_series)):\n",
    "        if(N_series[i-1]==N_series[i]):\n",
    "            Validator_subsequent_wins.append(N_series[i])\n",
    "#             print(i)\n",
    "#             print(N_series[i])\n",
    "#             print(N_series[i-1])\n",
    "#             print(N_series)\n",
    "    return len(Validator_subsequent_wins)"
   ]
  },
  {
   "cell_type": "code",
   "execution_count": 396,
   "id": "9a7fa029",
   "metadata": {
    "ExecuteTime": {
     "end_time": "2022-09-25T10:20:23.566105Z",
     "start_time": "2022-09-25T10:17:12.900840Z"
    }
   },
   "outputs": [],
   "source": [
    "# 5 hours\n",
    "N_validators = 30 # N>100\n",
    "VP_total = 1000\n",
    "VP_precentage_1_validator = [0.1,0.2,0.3,0.4,0.5,0.6,0.7,0.8]\n",
    "N_validators_maximum_VP_data = dict()\n",
    "N_validators_and_VP_data = dict()\n",
    "for N_validators in range(20,200,20):\n",
    "    f = pd.DataFrame()\n",
    "    Sum_subsequent_wins = 0\n",
    "    for j in range(20,50,1):\n",
    "        j = j/100\n",
    "        z = []\n",
    "        for i in range(10):\n",
    "            z.append(Simulation(N_validators,VP_total,j))\n",
    "        f[j] = z\n",
    "        \n",
    "        if sum(z)==0:\n",
    "            Sum_subsequent_wins = j\n",
    "    N_validators_and_VP_data[N_validators] = f\n",
    "    N_validators_maximum_VP_data[N_validators] = Sum_subsequent_wins"
   ]
  },
  {
   "cell_type": "markdown",
   "id": "72502a0e",
   "metadata": {
    "ExecuteTime": {
     "end_time": "2022-09-22T04:24:11.227863Z",
     "start_time": "2022-09-22T04:24:11.215863Z"
    }
   },
   "source": [
    "## Get a graph of the dependence of the number of the subsequent wins on the corresponding maximum VP."
   ]
  },
  {
   "cell_type": "code",
   "execution_count": 397,
   "id": "7b890b5a",
   "metadata": {
    "ExecuteTime": {
     "end_time": "2022-09-25T10:27:55.802875Z",
     "start_time": "2022-09-25T10:27:55.503523Z"
    }
   },
   "outputs": [
    {
     "data": {
      "image/png": "[encoded data removed]",
      "text/plain": [
       "<Figure size 864x504 with 1 Axes>"
      ]
     },
     "metadata": {
      "needs_background": "light"
     },
     "output_type": "display_data"
    }
   ],
   "source": [
    "from matplotlib.pyplot import cm\n",
    "plt.figure(figsize=(12, 7))\n",
    "keys = N_validators_and_VP_data.keys() # all N_validators\n",
    "color=iter(cm.rainbow(np.linspace(0,1,len(keys))))\n",
    "for i in keys:\n",
    "    c=next(color)\n",
    "    plt.plot(N_validators_and_VP_data[i].max(), marker='o',c=c, label=i)\n",
    "plt.xlabel(\"VP\")\n",
    "plt.ylabel(\"maximum number of the subsequent wins\")\n",
    "plt.legend()\n",
    "plt.grid()    "
   ]
  },
  {
   "cell_type": "markdown",
   "id": "df8d47d1",
   "metadata": {
    "ExecuteTime": {
     "end_time": "2022-09-22T04:53:52.681193Z",
     "start_time": "2022-09-22T04:53:52.673192Z"
    }
   },
   "source": [
    "## Get a graph of the dependence of the VP threshold on the number of validators."
   ]
  },
  {
   "cell_type": "code",
   "execution_count": 361,
   "id": "b04ca48b",
   "metadata": {
    "ExecuteTime": {
     "end_time": "2022-09-22T12:25:50.446406Z",
     "start_time": "2022-09-22T12:25:50.124385Z"
    }
   },
   "outputs": [
    {
     "data": {
      "text/plain": [
       "[]"
      ]
     },
     "execution_count": 361,
     "metadata": {},
     "output_type": "execute_result"
    },
    {
     "data": {
      "image/png": "[encoded data removed]",
      "text/plain": [
       "<Figure size 864x504 with 1 Axes>"
      ]
     },
     "metadata": {
      "needs_background": "light"
     },
     "output_type": "display_data"
    }
   ],
   "source": [
    "y_VP = []\n",
    "x_N_validators = []\n",
    "for i in N_validators_maximum_VP_data.keys():\n",
    "    x_N_validators.append(int(i))\n",
    "    y_VP.append(N_validators_maximum_VP_data[i])\n",
    "plt.figure(figsize=(12, 7))\n",
    "plt.plot(x_N_validators, y_VP, marker='o',c='g')\n",
    "plt.xlabel(\"Number of validators\")\n",
    "plt.ylabel(\"VP\")\n",
    "plt.grid()\n",
    "plt.xticks([i for i in range(20,200,5)])\n",
    "plt.plot()"
   ]
  },
  {
   "cell_type": "code",
   "execution_count": 392,
   "id": "e9565fb6",
   "metadata": {
    "ExecuteTime": {
     "end_time": "2022-09-25T10:09:21.792347Z",
     "start_time": "2022-09-25T10:09:21.746244Z"
    }
   },
   "outputs": [
    {
     "data": {
      "text/plain": [
       "['9', '9', '9', '9']"
      ]
     },
     "execution_count": 392,
     "metadata": {},
     "output_type": "execute_result"
    }
   ],
   "source": [
    "N_validators = 10\n",
    "VP_total = 1000\n",
    "VP_precentage_1_validator = 0.4\n",
    "VP_all =  truncnorm.rvs(0, 1, size=N_validators-1)\n",
    "VP_all_sum = sum(VP_all)\n",
    "VP_max = 1*VP_all_sum/(1-VP_precentage_1_validator) - VP_all_sum\n",
    "\n",
    "while (VP_max<max(VP_all)):\n",
    "    VP_all =  truncnorm.rvs(0, 1, size=N_validators-1)\n",
    "    VP_all_sum = sum(VP_all)\n",
    "    VP_max = 1*VP_all_sum/(1-VP_precentage_1_validator) - VP_all_sum\n",
    "\n",
    "VP_all = np.append(VP_all,VP_max)\n",
    "VP_all_sum = sum(VP_all)\n",
    "# normalize\n",
    "for i in range(len(VP_all)):\n",
    "    VP_all[i] = VP_all[i]/VP_all_sum\n",
    "# new VP\n",
    "for i in range(len(VP_all)):\n",
    "    VP_all[i] = round(VP_all[i]*VP_total)\n",
    "# grnerate vset\n",
    "N_Vp = sum(VP_all)\n",
    "vset = {'0':{'A':0,'VP':VP_all[0]}}\n",
    "for i in range(1,len(VP_all)):\n",
    "    vset[str(i)]= {'A':0,'VP':VP_all[i]}\n",
    "# generate series\n",
    "N_series = []\n",
    "for i in range(int(N_Vp)):\n",
    "    d,vset = ProposerSelection(vset)\n",
    "    N_series.append(d)\n",
    "\n",
    "# calculate validator wins\n",
    "Validator_subsequent_wins=[]\n",
    "for i in range(1,len(N_series)):\n",
    "    if(N_series[i-1]==N_series[i]):\n",
    "        Validator_subsequent_wins.append(N_series[i])\n",
    "#             print(i)\n",
    "#             print(N_series[i])\n",
    "#             print(N_series[i-1])\n",
    "#             print(N_series)\n",
    "Validator_subsequent_wins"
   ]
  },
  {
   "cell_type": "code",
   "execution_count": null,
   "id": "949fbfa4",
   "metadata": {},
   "outputs": [],
   "source": []
  }
 ],
 "metadata": {
  "kernelspec": {
   "display_name": "Python 3",
   "language": "python",
   "name": "python3"
  },
  "language_info": {
   "codemirror_mode": {
    "name": "ipython",
    "version": 3
   },
   "file_extension": ".py",
   "mimetype": "text/x-python",
   "name": "python",
   "nbconvert_exporter": "python",
   "pygments_lexer": "ipython3",
   "version": "3.8.3"
  },
  "toc": {
   "base_numbering": 1,
   "nav_menu": {},
   "number_sections": true,
   "sideBar": true,
   "skip_h1_title": false,
   "title_cell": "Table of Contents",
   "title_sidebar": "Contents",
   "toc_cell": false,
   "toc_position": {},
   "toc_section_display": true,
   "toc_window_display": false
  },
  "varInspector": {
   "cols": {
    "lenName": 16,
    "lenType": 16,
    "lenVar": 40
   },
   "kernels_config": {
    "python": {
     "delete_cmd_postfix": "",
     "delete_cmd_prefix": "del ",
     "library": "var_list.py",
     "varRefreshCmd": "print(var_dic_list())"
    },
    "r": {
     "delete_cmd_postfix": ") ",
     "delete_cmd_prefix": "rm(",
     "library": "var_list.r",
     "varRefreshCmd": "cat(var_dic_list()) "
    }
   },
   "oldHeight": 278.85,
   "position": {
    "height": "166px",
    "left": "462px",
    "right": "20px",
    "top": "43px",
    "width": "350px"
   },
   "types_to_exclude": [
    "module",
    "function",
    "builtin_function_or_method",
    "instance",
    "_Feature"
   ],
   "varInspector_section_display": "none",
   "window_display": false
  }
 },
 "nbformat": 4,
 "nbformat_minor": 5
}
